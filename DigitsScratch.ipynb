{
 "cells": [
  {
   "cell_type": "markdown",
   "metadata": {},
   "source": [
    "# Making digits with PCA and KDE without any libraries"
   ]
  },
  {
   "cell_type": "markdown",
   "metadata": {},
   "source": [
    "## PCA on the digits"
   ]
  },
  {
   "cell_type": "code",
   "execution_count": 32,
   "metadata": {},
   "outputs": [],
   "source": [
    "from sklearn.datasets import load_digits\n",
    "import numpy as np\n",
    "from numpy import mean\n",
    "from numpy import cov\n",
    "from numpy.linalg import eig\n",
    "import matplotlib.pyplot as plt\n",
    "import seaborn as sns\n",
    "from scipy.spatial.distance import pdist, squareform\n",
    "\n",
    "sns.set(color_codes=True)\n",
    "plt.style.use('ggplot')"
   ]
  },
  {
   "cell_type": "code",
   "execution_count": 33,
   "metadata": {},
   "outputs": [],
   "source": [
    "#load digits and pick however many\n",
    "digits = load_digits()\n",
    "A=digits.data[0:64]"
   ]
  },
  {
   "cell_type": "code",
   "execution_count": 34,
   "metadata": {},
   "outputs": [],
   "source": [
    "#mean of columns\n",
    "M = mean(A, axis=0)\n",
    "#center matrix\n",
    "C = (A - M)\n",
    "#covariance matrix\n",
    "V=np.cov(C.T)\n",
    "# eigenvectors and values\n",
    "values, vectors = eig(V)\n",
    "\n",
    "def myPCA(N):       \n",
    "    '''Returns the eigenvectors and PC used and not used\n",
    "        N=desired number of components\n",
    "    '''\n",
    "    #sort eigenvalues by descending order\n",
    "    max_values=np.flip(np.sort(values))\n",
    "    eigenvectors = np.zeros((np.shape(C)[1],N))\n",
    "    eigenvectors_not = np.zeros((np.shape(C)[1],np.shape(C)[1]-N))\n",
    "    \n",
    "    #make eigenvectors corresponding to N largest eigenvalues\n",
    "    for i in range(N):       \n",
    "        max_eig=np.where(values == max_values[i])[0]     \n",
    "        eigenvectors[:,i]=vectors[:,max_eig][:,0]\n",
    "        \n",
    "    #make the rest of the eigenvectors    \n",
    "    for i in range(np.shape(C)[1]-N):\n",
    "        max_values=np.flip(max_values)\n",
    "        min_eig=np.where(values == max_values[i])[0]\n",
    "        eigenvectors_not[:,i]=vectors[:,min_eig][:,0]\n",
    "\n",
    "    PC=C@eigenvectors \n",
    "    PC_not=C@eigenvectors_not\n",
    "    \n",
    "    return eigenvectors,PC,eigenvectors_not,PC_not"
   ]
  },
  {
   "cell_type": "code",
   "execution_count": 35,
   "metadata": {},
   "outputs": [
    {
     "data": {
      "text/plain": [
       "<matplotlib.collections.PathCollection at 0x1a23bfb510>"
      ]
     },
     "execution_count": 35,
     "metadata": {},
     "output_type": "execute_result"
    },
    {
     "data": {
      "image/png": "[encoded data removed]",
      "text/plain": [
       "<Figure size 432x288 with 1 Axes>"
      ]
     },
     "metadata": {},
     "output_type": "display_data"
    }
   ],
   "source": [
    "#calculate and plot explained variance as a function of number of components\n",
    "explained_variance=np.zeros(np.shape(C)[1])\n",
    "for i in range(np.shape(C)[1]):\n",
    "    explained_variance[i]=np.sum(np.var(myPCA(i+1)[1],axis=0,ddof=1))/ np.sum(np.var(A,axis=0,ddof=1))\n",
    "\n",
    "plt.ylabel('explained variance')\n",
    "plt.xlabel('number of components')\n",
    "plt.scatter(np.linspace(0,np.shape(C)[1],np.shape(C)[1]),explained_variance)"
   ]
  },
  {
   "cell_type": "markdown",
   "metadata": {},
   "source": [
    "## KDE on PCA output"
   ]
  },
  {
   "cell_type": "code",
   "execution_count": 31,
   "metadata": {},
   "outputs": [],
   "source": [
    "x_grid=np.linspace(-100,100,2000)\n",
    "\n",
    "def PDF(X,sigma):\n",
    "    #PC's are 1D so k=1\n",
    "    k=1\n",
    "    x_new = np.array([[x] for x in x_grid] + [[x] for x in X])\n",
    "    #distance matrix\n",
    "    d = squareform(pdist(x_new))   \n",
    "    d = d[np.shape(x_grid)[0]:np.shape(x_new)[0],0:np.shape(x_grid)[0]] \n",
    "    #Gaussian kernel\n",
    "    d = (2*np.pi)**(-k/2)*(sigma**(2*k))**(-1/2)* np.exp(-(d)**2/(2*sigma** 2))\n",
    "    #divide by shape of X so intergral of pdf sums to 1\n",
    "    pdf=np.sum(d,axis=0)/np.shape(X)[0]\n",
    "    return pdf\n"
   ]
  },
  {
   "cell_type": "code",
   "execution_count": 41,
   "metadata": {},
   "outputs": [
    {
     "data": {
      "text/plain": [
       "Text(0, 0.5, 'Probability density')"
      ]
     },
     "execution_count": 41,
     "metadata": {},
     "output_type": "execute_result"
    },
    {
     "data": {
      "image/png": "[encoded data removed]",
      "text/plain": [
       "<Figure size 432x288 with 1 Axes>"
      ]
     },
     "metadata": {},
     "output_type": "display_data"
    }
   ],
   "source": [
    "#visualise the pdf of PC1\n",
    "#make PC1\n",
    "PC1=myPCA(44)[0][0]\n",
    "#get PDF of PC1 with sigma 10\n",
    "PDF_PC1=PDF(PC1,10)\n",
    "plt.fill(x_grid,PDF_PC1, fc='#AAAAFF')\n",
    "plt.xlabel('PC1')\n",
    "plt.ylabel('Probability density')"
   ]
  },
  {
   "cell_type": "markdown",
   "metadata": {},
   "source": [
    "## Making the digits"
   ]
  },
  {
   "cell_type": "code",
   "execution_count": 79,
   "metadata": {},
   "outputs": [],
   "source": [
    "def newDigits(n_components,n_sample):\n",
    "    '''fetches every PC1 from myPCA of n_components, \n",
    "    applies KDE with PDF, converts back to original shape\n",
    "    n_components=number of PCA components, n_sample=number of \n",
    "    new images to create'''\n",
    "    \n",
    "    sample=np.zeros((n_sample,n_components))\n",
    "    for i in range(n_components):\n",
    "        #get PC\n",
    "        PC=myPCA(n_components)[1][:,i]\n",
    "        #calculate optimal bandwidth\n",
    "        sigma=1.06*np.std(PC)*np.shape(PC)[0]**(-1/5)\n",
    "        #get PDF\n",
    "        pdf=PDF(PC,sigma)\n",
    "        #get probability distribution (sums to 1)\n",
    "        p=(pdf/np.sum(pdf))\n",
    "        #sample from PDF with probabibility distribution p\n",
    "        samp=np.random.choice(np.arange(pdf.size),n_sample,p=p,replace=False)\n",
    "        #find the corresponding x values\n",
    "        samp=x_grid[samp]\n",
    "        sample[:,i]=np.array(samp)\n",
    "\n",
    "        \n",
    "    #get n_components eigenvectors\n",
    "    eigenvectors=myPCA(n_components)[0]\n",
    "    #invert back to 64 dimensinos\n",
    "    new_digits=sample.dot(eigenvectors.T)+mean(A,axis=0)\n",
    "    new_digits=new_digits.reshape(n_sample,8,8)\n",
    "    \n",
    "    return new_digits"
   ]
  },
  {
   "cell_type": "code",
   "execution_count": 88,
   "metadata": {},
   "outputs": [
    {
     "data": {
      "text/plain": [
       "Text(0.5, 1.0, 'Generated digits')"
      ]
     },
     "execution_count": 88,
     "metadata": {},
     "output_type": "execute_result"
    },
    {
     "data": {
      "image/png": "[encoded data removed]",
      "text/plain": [
       "<Figure size 432x288 with 5 Axes>"
      ]
     },
     "metadata": {},
     "output_type": "display_data"
    },
    {
     "data": {
      "text/plain": [
       "<Figure size 432x288 with 0 Axes>"
      ]
     },
     "metadata": {},
     "output_type": "display_data"
    }
   ],
   "source": [
    "#plot 5 new digits\n",
    "new_digits=newDigits(44,5)\n",
    "fig, ax = plt.subplots(1,np.shape(new_digits)[0], subplot_kw=dict(xticks=[], yticks=[]),constrained_layout=True)\n",
    "\n",
    "for i in range(np.shape(new_digits)[0]):\n",
    "    im = ax[i].imshow(new_digits[i,:,:], cmap=plt.cm.binary,interpolation='nearest')\n",
    "    im.set_clim(0, 16)\n",
    "plt.figure()\n",
    "ax[2].set_title('Generated digits')\n"
   ]
  },
  {
   "cell_type": "code",
   "execution_count": null,
   "metadata": {},
   "outputs": [],
   "source": []
  }
 ],
 "metadata": {
  "kernelspec": {
   "display_name": "Python 3",
   "language": "python",
   "name": "python3"
  },
  "language_info": {
   "codemirror_mode": {
    "name": "ipython",
    "version": 3
   },
   "file_extension": ".py",
   "mimetype": "text/x-python",
   "name": "python",
   "nbconvert_exporter": "python",
   "pygments_lexer": "ipython3",
   "version": "3.7.7"
  }
 },
 "nbformat": 4,
 "nbformat_minor": 4
}
